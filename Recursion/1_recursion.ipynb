{
 "cells": [
  {
   "metadata": {},
   "cell_type": "markdown",
   "source": "## Factorial",
   "id": "94678a6394845880"
  },
  {
   "metadata": {
    "ExecuteTime": {
     "end_time": "2025-07-15T00:00:33.334191Z",
     "start_time": "2025-07-15T00:00:33.246545Z"
    }
   },
   "cell_type": "code",
   "source": [
    "def factorial(n):\n",
    "    if n <= 1:\n",
    "        return 1\n",
    "\n",
    "    prior = factorial(n - 1)\n",
    "    return n * prior"
   ],
   "id": "f64e0dede19edfcb",
   "outputs": [],
   "execution_count": 3
  },
  {
   "metadata": {
    "ExecuteTime": {
     "end_time": "2025-07-15T00:19:39.877762Z",
     "start_time": "2025-07-15T00:19:39.827617Z"
    }
   },
   "cell_type": "code",
   "source": "factorial(5)",
   "id": "a6ab8187188372cd",
   "outputs": [
    {
     "data": {
      "text/plain": [
       "120"
      ]
     },
     "execution_count": 90,
     "metadata": {},
     "output_type": "execute_result"
    }
   ],
   "execution_count": 90
  },
  {
   "metadata": {},
   "cell_type": "markdown",
   "source": "## Fibonacci Series",
   "id": "3edd8299ccbbba6b"
  },
  {
   "metadata": {
    "ExecuteTime": {
     "end_time": "2025-07-15T00:06:44.505939Z",
     "start_time": "2025-07-15T00:06:44.482946Z"
    }
   },
   "cell_type": "code",
   "source": [
    "def fibonacci(n):\n",
    "    if n <= 0:\n",
    "        return 0\n",
    "    elif n == 1:\n",
    "        return 1\n",
    "\n",
    "    prior = fibonacci(n - 1) + fibonacci(n - 2)\n",
    "    return prior"
   ],
   "id": "4903cfe523f2cdfd",
   "outputs": [],
   "execution_count": 28
  },
  {
   "metadata": {
    "ExecuteTime": {
     "end_time": "2025-07-15T00:06:45.081825Z",
     "start_time": "2025-07-15T00:06:45.060873Z"
    }
   },
   "cell_type": "code",
   "source": [
    "n_terms = 10\n",
    "for i in range(n_terms):\n",
    "    print(fibonacci(i), end=' ')"
   ],
   "id": "9de541329af20b60",
   "outputs": [
    {
     "name": "stdout",
     "output_type": "stream",
     "text": [
      "0 1 1 2 3 5 8 13 21 34 "
     ]
    }
   ],
   "execution_count": 29
  },
  {
   "metadata": {},
   "cell_type": "markdown",
   "source": "## Count Digits",
   "id": "d4755062a7adcbdf"
  },
  {
   "metadata": {
    "ExecuteTime": {
     "end_time": "2025-07-15T00:14:09.600942Z",
     "start_time": "2025-07-15T00:14:09.587932Z"
    }
   },
   "cell_type": "code",
   "source": [
    "def count_digits(n):\n",
    "    if n <= 0:\n",
    "        return 0\n",
    "\n",
    "    m = n // 10\n",
    "    prior = count_digits(m)\n",
    "    return prior + 1"
   ],
   "id": "4e4542d169aca09c",
   "outputs": [],
   "execution_count": 79
  },
  {
   "metadata": {
    "ExecuteTime": {
     "end_time": "2025-07-15T00:14:10.082181Z",
     "start_time": "2025-07-15T00:14:10.059185Z"
    }
   },
   "cell_type": "code",
   "source": "count_digits(123002)",
   "id": "726a29656ae97793",
   "outputs": [
    {
     "name": "stdout",
     "output_type": "stream",
     "text": [
      "12300\n",
      "1230\n",
      "123\n",
      "12\n",
      "1\n",
      "0\n"
     ]
    },
    {
     "data": {
      "text/plain": [
       "6"
      ]
     },
     "execution_count": 80,
     "metadata": {},
     "output_type": "execute_result"
    }
   ],
   "execution_count": 80
  },
  {
   "metadata": {},
   "cell_type": "markdown",
   "source": "## Sum of Digits",
   "id": "762ad38c276b2b6a"
  },
  {
   "metadata": {
    "ExecuteTime": {
     "end_time": "2025-07-15T00:16:37.558412Z",
     "start_time": "2025-07-15T00:16:37.533160Z"
    }
   },
   "cell_type": "code",
   "source": [
    "def sum_digits(n):\n",
    "    if n <= 0:\n",
    "        return 0\n",
    "\n",
    "    last_digit = n % 10\n",
    "    remaining_number = n // 10\n",
    "    sum_of_remaining = sum_digits(remaining_number)\n",
    "    return sum_of_remaining + last_digit"
   ],
   "id": "63d8a43db2911447",
   "outputs": [],
   "execution_count": 88
  },
  {
   "metadata": {
    "ExecuteTime": {
     "end_time": "2025-07-15T00:16:38.488181Z",
     "start_time": "2025-07-15T00:16:38.468208Z"
    }
   },
   "cell_type": "code",
   "source": "sum_digits(10)",
   "id": "96fcd28d44eb8cf6",
   "outputs": [
    {
     "data": {
      "text/plain": [
       "1"
      ]
     },
     "execution_count": 89,
     "metadata": {},
     "output_type": "execute_result"
    }
   ],
   "execution_count": 89
  }
 ],
 "metadata": {
  "kernelspec": {
   "display_name": "Python 3",
   "language": "python",
   "name": "python3"
  },
  "language_info": {
   "codemirror_mode": {
    "name": "ipython",
    "version": 2
   },
   "file_extension": ".py",
   "mimetype": "text/x-python",
   "name": "python",
   "nbconvert_exporter": "python",
   "pygments_lexer": "ipython2",
   "version": "2.7.6"
  }
 },
 "nbformat": 4,
 "nbformat_minor": 5
}
