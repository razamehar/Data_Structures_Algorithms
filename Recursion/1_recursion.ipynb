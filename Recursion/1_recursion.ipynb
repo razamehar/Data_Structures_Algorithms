{
 "cells": [
  {
   "metadata": {},
   "cell_type": "markdown",
   "source": "## Factorial",
   "id": "94678a6394845880"
  },
  {
   "metadata": {
    "ExecuteTime": {
     "end_time": "2025-07-15T00:00:33.334191Z",
     "start_time": "2025-07-15T00:00:33.246545Z"
    }
   },
   "cell_type": "code",
   "source": [
    "def factorial(n):\n",
    "    if n <= 1:\n",
    "        return 1\n",
    "\n",
    "    prior = factorial(n - 1)\n",
    "    return n * prior"
   ],
   "id": "f64e0dede19edfcb",
   "outputs": [],
   "execution_count": 3
  },
  {
   "metadata": {
    "ExecuteTime": {
     "end_time": "2025-07-15T00:19:39.877762Z",
     "start_time": "2025-07-15T00:19:39.827617Z"
    }
   },
   "cell_type": "code",
   "source": "factorial(5)",
   "id": "a6ab8187188372cd",
   "outputs": [
    {
     "data": {
      "text/plain": [
       "120"
      ]
     },
     "execution_count": 90,
     "metadata": {},
     "output_type": "execute_result"
    }
   ],
   "execution_count": 90
  },
  {
   "metadata": {},
   "cell_type": "markdown",
   "source": "## Fibonacci Series",
   "id": "3edd8299ccbbba6b"
  },
  {
   "metadata": {
    "ExecuteTime": {
     "end_time": "2025-07-15T00:06:44.505939Z",
     "start_time": "2025-07-15T00:06:44.482946Z"
    }
   },
   "cell_type": "code",
   "source": [
    "def fibonacci(n):\n",
    "    if n <= 0:\n",
    "        return 0\n",
    "    elif n == 1:\n",
    "        return 1\n",
    "\n",
    "    prior = fibonacci(n - 1) + fibonacci(n - 2)\n",
    "    return prior"
   ],
   "id": "4903cfe523f2cdfd",
   "outputs": [],
   "execution_count": 28
  },
  {
   "metadata": {
    "ExecuteTime": {
     "end_time": "2025-07-15T00:06:45.081825Z",
     "start_time": "2025-07-15T00:06:45.060873Z"
    }
   },
   "cell_type": "code",
   "source": [
    "n_terms = 10\n",
    "for i in range(n_terms):\n",
    "    print(fibonacci(i), end=' ')"
   ],
   "id": "9de541329af20b60",
   "outputs": [
    {
     "name": "stdout",
     "output_type": "stream",
     "text": [
      "0 1 1 2 3 5 8 13 21 34 "
     ]
    }
   ],
   "execution_count": 29
  },
  {
   "metadata": {},
   "cell_type": "markdown",
   "source": "## Count Digits",
   "id": "d4755062a7adcbdf"
  },
  {
   "metadata": {
    "ExecuteTime": {
     "end_time": "2025-07-15T00:14:09.600942Z",
     "start_time": "2025-07-15T00:14:09.587932Z"
    }
   },
   "cell_type": "code",
   "source": [
    "def count_digits(n):\n",
    "    if n <= 0:\n",
    "        return 0\n",
    "\n",
    "    m = n // 10\n",
    "    prior = count_digits(m)\n",
    "    return prior + 1"
   ],
   "id": "4e4542d169aca09c",
   "outputs": [],
   "execution_count": 79
  },
  {
   "metadata": {
    "ExecuteTime": {
     "end_time": "2025-07-15T00:14:10.082181Z",
     "start_time": "2025-07-15T00:14:10.059185Z"
    }
   },
   "cell_type": "code",
   "source": "count_digits(123002)",
   "id": "726a29656ae97793",
   "outputs": [
    {
     "name": "stdout",
     "output_type": "stream",
     "text": [
      "12300\n",
      "1230\n",
      "123\n",
      "12\n",
      "1\n",
      "0\n"
     ]
    },
    {
     "data": {
      "text/plain": [
       "6"
      ]
     },
     "execution_count": 80,
     "metadata": {},
     "output_type": "execute_result"
    }
   ],
   "execution_count": 80
  },
  {
   "metadata": {},
   "cell_type": "markdown",
   "source": "## Sum of Digits",
   "id": "762ad38c276b2b6a"
  },
  {
   "metadata": {
    "ExecuteTime": {
     "end_time": "2025-07-15T00:16:37.558412Z",
     "start_time": "2025-07-15T00:16:37.533160Z"
    }
   },
   "cell_type": "code",
   "source": [
    "def sum_digits(n):\n",
    "    if n <= 0:\n",
    "        return 0\n",
    "\n",
    "    last_digit = n % 10\n",
    "    remaining_number = n // 10\n",
    "    sum_of_remaining = sum_digits(remaining_number)\n",
    "    return sum_of_remaining + last_digit"
   ],
   "id": "63d8a43db2911447",
   "outputs": [],
   "execution_count": 88
  },
  {
   "metadata": {
    "ExecuteTime": {
     "end_time": "2025-07-15T00:16:38.488181Z",
     "start_time": "2025-07-15T00:16:38.468208Z"
    }
   },
   "cell_type": "code",
   "source": "sum_digits(10)",
   "id": "96fcd28d44eb8cf6",
   "outputs": [
    {
     "data": {
      "text/plain": [
       "1"
      ]
     },
     "execution_count": 89,
     "metadata": {},
     "output_type": "execute_result"
    }
   ],
   "execution_count": 89
  },
  {
   "metadata": {},
   "cell_type": "markdown",
   "source": "## Sum of Array - Head",
   "id": "85a686ee12d55ab7"
  },
  {
   "metadata": {
    "ExecuteTime": {
     "end_time": "2025-07-21T15:34:00.452879Z",
     "start_time": "2025-07-21T15:34:00.427868Z"
    }
   },
   "cell_type": "code",
   "source": [
    "def sum_of_array(mylist):\n",
    "    if len(mylist) == 0:\n",
    "        return 0\n",
    "    prior = mylist[0]\n",
    "    remaining = sum_of_array(mylist[1:])\n",
    "\n",
    "    return prior + remaining"
   ],
   "id": "447950f7a1dd7a7b",
   "outputs": [],
   "execution_count": 12
  },
  {
   "metadata": {
    "ExecuteTime": {
     "end_time": "2025-07-21T15:34:16.204034Z",
     "start_time": "2025-07-21T15:34:16.179233Z"
    }
   },
   "cell_type": "code",
   "source": [
    "mylist = [1, 2, 3, 4, 5]\n",
    "sum_of_array(mylist)"
   ],
   "id": "1af188ab394e82fd",
   "outputs": [
    {
     "data": {
      "text/plain": [
       "15"
      ]
     },
     "execution_count": 16,
     "metadata": {},
     "output_type": "execute_result"
    }
   ],
   "execution_count": 16
  },
  {
   "metadata": {},
   "cell_type": "markdown",
   "source": "## Sum of Array - Tail",
   "id": "59ee8cbe87516a8e"
  },
  {
   "metadata": {
    "ExecuteTime": {
     "end_time": "2025-07-21T15:42:04.862496Z",
     "start_time": "2025-07-21T15:42:04.787122Z"
    }
   },
   "cell_type": "code",
   "source": [
    "def sum_of_helper_array(mylist, acc):\n",
    "    if len(mylist) == 0:\n",
    "        return acc\n",
    "\n",
    "    return sum_of_helper_array(mylist[1:], acc + mylist[0])\n",
    "\n",
    "\n",
    "def sum_of_array(mylist):\n",
    "    return sum_of_helper_array(mylist, 0)"
   ],
   "id": "3be585ba6d064390",
   "outputs": [],
   "execution_count": 20
  },
  {
   "metadata": {
    "ExecuteTime": {
     "end_time": "2025-07-21T15:42:06.371281Z",
     "start_time": "2025-07-21T15:42:06.350280Z"
    }
   },
   "cell_type": "code",
   "source": [
    "mylist = [1, 2, 3, 4, 5]\n",
    "sum_of_array(mylist)"
   ],
   "id": "1fa47586d011f655",
   "outputs": [
    {
     "data": {
      "text/plain": [
       "15"
      ]
     },
     "execution_count": 21,
     "metadata": {},
     "output_type": "execute_result"
    }
   ],
   "execution_count": 21
  },
  {
   "metadata": {
    "ExecuteTime": {
     "end_time": "2025-07-21T16:08:08.879818Z",
     "start_time": "2025-07-21T16:08:08.840801Z"
    }
   },
   "cell_type": "code",
   "source": [
    "def count_digits(n):\n",
    "    if n == 0:\n",
    "        return 0\n",
    "    if n < 0:\n",
    "        n = abs(n)\n",
    "\n",
    "    prior = n // 10\n",
    "    rem = count_digits(prior)\n",
    "    return rem + 1 if n > 0 else 0"
   ],
   "id": "4525942f7a6c5077",
   "outputs": [],
   "execution_count": 54
  },
  {
   "metadata": {
    "ExecuteTime": {
     "end_time": "2025-07-21T16:08:13.831080Z",
     "start_time": "2025-07-21T16:08:13.822086Z"
    }
   },
   "cell_type": "code",
   "source": "count_digits(-220)",
   "id": "57ee3e768bfb749f",
   "outputs": [
    {
     "data": {
      "text/plain": [
       "3"
      ]
     },
     "execution_count": 56,
     "metadata": {},
     "output_type": "execute_result"
    }
   ],
   "execution_count": 56
  },
  {
   "metadata": {},
   "cell_type": "markdown",
   "source": "## SortedArray",
   "id": "18994a365ca98049"
  },
  {
   "metadata": {
    "ExecuteTime": {
     "end_time": "2025-07-27T22:11:56.130182Z",
     "start_time": "2025-07-27T22:11:56.086772Z"
    }
   },
   "cell_type": "code",
   "source": [
    "def IsSortedArray(l1):\n",
    "\n",
    "    if len(l1) == 0 or len(l1) == 1:\n",
    "        return True\n",
    "\n",
    "    if l1[0] > l1[1]:\n",
    "        return False\n",
    "\n",
    "    return IsSortedArray(l1[1:])"
   ],
   "id": "78e3793eb3dc42ea",
   "outputs": [],
   "execution_count": 8
  },
  {
   "metadata": {
    "ExecuteTime": {
     "end_time": "2025-07-27T22:12:06.676299Z",
     "start_time": "2025-07-27T22:12:06.656305Z"
    }
   },
   "cell_type": "code",
   "source": " IsSortedArray([0, 1, 2, 1, 3, 4, 5])",
   "id": "e49a132692b20f61",
   "outputs": [
    {
     "data": {
      "text/plain": [
       "False"
      ]
     },
     "execution_count": 10,
     "metadata": {},
     "output_type": "execute_result"
    }
   ],
   "execution_count": 10
  },
  {
   "metadata": {},
   "cell_type": "markdown",
   "source": "## Find First Index",
   "id": "d91abe1b0ce93f54"
  },
  {
   "metadata": {
    "ExecuteTime": {
     "end_time": "2025-07-28T00:21:16.862421Z",
     "start_time": "2025-07-28T00:21:16.838409Z"
    }
   },
   "cell_type": "code",
   "source": [
    "def firstIndex(l1, n):\n",
    "\n",
    "    if len(l1) == 0:\n",
    "        return -1\n",
    "\n",
    "    if l1[0] == n:\n",
    "        return 0\n",
    "\n",
    "    remainder = firstIndex(l1[1:], n)\n",
    "    if remainder == -1:\n",
    "        return -1\n",
    "    else:\n",
    "        return remainder + 1"
   ],
   "id": "ff9a7b77c05fb618",
   "outputs": [],
   "execution_count": 4
  },
  {
   "metadata": {
    "ExecuteTime": {
     "end_time": "2025-07-28T00:21:43.179779Z",
     "start_time": "2025-07-28T00:21:43.162774Z"
    }
   },
   "cell_type": "code",
   "source": "firstIndex([1, 2, 10,10], 10)",
   "id": "63cd86a2bfc51632",
   "outputs": [
    {
     "data": {
      "text/plain": [
       "2"
      ]
     },
     "execution_count": 9,
     "metadata": {},
     "output_type": "execute_result"
    }
   ],
   "execution_count": 9
  },
  {
   "metadata": {},
   "cell_type": "markdown",
   "source": "## Last Index",
   "id": "70b5592d55128b8a"
  },
  {
   "metadata": {
    "ExecuteTime": {
     "end_time": "2025-07-28T00:24:15.170892Z",
     "start_time": "2025-07-28T00:24:15.146314Z"
    }
   },
   "cell_type": "code",
   "source": [
    "def lastIndex(l1, n):\n",
    "\n",
    "    if len(l1) == 0:\n",
    "        return -1\n",
    "\n",
    "    remainder = lastIndex(l1[1:], n)\n",
    "\n",
    "    if remainder == -1:\n",
    "        if l1[0] == n:\n",
    "            return 0\n",
    "        return -1\n",
    "    else:\n",
    "        return remainder + 1"
   ],
   "id": "d6099a14b549d5dd",
   "outputs": [],
   "execution_count": 13
  },
  {
   "metadata": {
    "ExecuteTime": {
     "end_time": "2025-07-28T00:24:24.074283Z",
     "start_time": "2025-07-28T00:24:24.053196Z"
    }
   },
   "cell_type": "code",
   "source": "lastIndex([1, 10, 3, 4, 10, 4], 10)",
   "id": "f4ff35a7d7026af7",
   "outputs": [
    {
     "data": {
      "text/plain": [
       "4"
      ]
     },
     "execution_count": 15,
     "metadata": {},
     "output_type": "execute_result"
    }
   ],
   "execution_count": 15
  },
  {
   "metadata": {},
   "cell_type": "code",
   "outputs": [],
   "execution_count": null,
   "source": "",
   "id": "1a69ab77ae691a4b"
  }
 ],
 "metadata": {
  "kernelspec": {
   "display_name": "Python 3",
   "language": "python",
   "name": "python3"
  },
  "language_info": {
   "codemirror_mode": {
    "name": "ipython",
    "version": 2
   },
   "file_extension": ".py",
   "mimetype": "text/x-python",
   "name": "python",
   "nbconvert_exporter": "python",
   "pygments_lexer": "ipython2",
   "version": "2.7.6"
  }
 },
 "nbformat": 4,
 "nbformat_minor": 5
}
